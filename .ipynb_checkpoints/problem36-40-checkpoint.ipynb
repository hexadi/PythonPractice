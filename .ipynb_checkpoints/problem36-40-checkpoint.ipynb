{
 "cells": [
  {
   "cell_type": "markdown",
   "metadata": {},
   "source": [
    "# Python Practice Book 36-40"
   ]
  },
  {
   "cell_type": "markdown",
   "metadata": {},
   "source": [
    "Tawan Kriangkraiwanich, 4 Oct 2020."
   ]
  },
  {
   "cell_type": "markdown",
   "metadata": {},
   "source": [
    "## Problem 36"
   ]
  },
  {
   "cell_type": "code",
   "execution_count": 3,
   "metadata": {},
   "outputs": [
    {
     "name": "stdout",
     "output_type": "stream",
     "text": [
      "she.txt\n",
      "I'm sure that the shells are seashore shells.\n",
      "So if she sells seashells on the seashore,\n",
      "The shells that she sells are seashells I'm sure.\n",
      "She sells seashells on the seashore;\n"
     ]
    }
   ],
   "source": [
    "file = input()\n",
    "for line in reversed(open(file).readlines()):\n",
    "    print(line.strip())"
   ]
  },
  {
   "cell_type": "markdown",
   "metadata": {},
   "source": [
    "## Problem 37"
   ]
  },
  {
   "cell_type": "code",
   "execution_count": null,
   "metadata": {},
   "outputs": [],
   "source": []
  },
  {
   "cell_type": "markdown",
   "metadata": {},
   "source": [
    "## Problem 38"
   ]
  },
  {
   "cell_type": "markdown",
   "metadata": {},
   "source": [
    "### Head"
   ]
  },
  {
   "cell_type": "code",
   "execution_count": 7,
   "metadata": {},
   "outputs": [
    {
     "name": "stdout",
     "output_type": "stream",
     "text": [
      "headtail.txt\n",
      "1\n",
      "2\n",
      "3\n",
      "4\n",
      "5\n",
      "6\n",
      "7\n",
      "8\n",
      "9\n",
      "10\n"
     ]
    }
   ],
   "source": [
    "file = input()\n",
    "for line in open(file).readlines()[:10]:\n",
    "    print(line.strip())"
   ]
  },
  {
   "cell_type": "markdown",
   "metadata": {},
   "source": [
    "### Tail"
   ]
  },
  {
   "cell_type": "code",
   "execution_count": 9,
   "metadata": {},
   "outputs": [
    {
     "name": "stdout",
     "output_type": "stream",
     "text": [
      "headtail.txt\n",
      "16\n",
      "17\n",
      "18\n",
      "19\n",
      "20\n",
      "21\n",
      "22\n",
      "23\n",
      "24\n",
      "25\n"
     ]
    }
   ],
   "source": [
    "file = input()\n",
    "for line in open(file).readlines()[-10:]:\n",
    "    print(line.strip())"
   ]
  },
  {
   "cell_type": "markdown",
   "metadata": {},
   "source": [
    "## Problem 39"
   ]
  },
  {
   "cell_type": "code",
   "execution_count": 10,
   "metadata": {},
   "outputs": [
    {
     "name": "stdout",
     "output_type": "stream",
     "text": [
      "she.txt sure\n",
      "The shells that she sells are seashells I'm sure.\n",
      "I'm sure that the shells are seashore shells.\n"
     ]
    }
   ],
   "source": [
    "file, text = [inp for inp in input().split()]\n",
    "for line in open(file).readlines():\n",
    "    if(line.find(text) != -1):\n",
    "        print(line.strip())"
   ]
  },
  {
   "cell_type": "markdown",
   "metadata": {},
   "source": [
    "## Problem 40"
   ]
  },
  {
   "cell_type": "code",
   "execution_count": 28,
   "metadata": {},
   "outputs": [
    {
     "name": "stdout",
     "output_type": "stream",
     "text": [
      "she.txt 30\n",
      "She sells seashells on the sea\n",
      "shore;\n",
      "The shells that she sells are\n",
      "seashells I'm sure.\n",
      "So if she sells seashells on t\n",
      "he seashore,\n",
      "I'm sure that the shells are s\n",
      "eashore shells.\n"
     ]
    }
   ],
   "source": [
    "import math\n",
    "file, width = [inp for inp in input().split()]\n",
    "width = int(width)\n",
    "for line in open(file).readlines():\n",
    "    if (len(line) > width):\n",
    "        print(line[:width].strip())\n",
    "        for i in range(1,math.ceil(len(line)/width)):\n",
    "                print(line[i*width:(i*width)+width].strip())"
   ]
  }
 ],
 "metadata": {
  "kernelspec": {
   "display_name": "Python 3",
   "language": "python",
   "name": "python3"
  },
  "language_info": {
   "codemirror_mode": {
    "name": "ipython",
    "version": 3
   },
   "file_extension": ".py",
   "mimetype": "text/x-python",
   "name": "python",
   "nbconvert_exporter": "python",
   "pygments_lexer": "ipython3",
   "version": "3.8.5"
  }
 },
 "nbformat": 4,
 "nbformat_minor": 4
}
