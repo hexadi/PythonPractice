{
 "cells": [
  {
   "cell_type": "markdown",
   "metadata": {},
   "source": [
    "# Python Practice Book 41-45"
   ]
  },
  {
   "cell_type": "markdown",
   "metadata": {},
   "source": [
    "Tawan Kriangkraiwanich, 4 Oct 2020."
   ]
  },
  {
   "cell_type": "markdown",
   "metadata": {},
   "source": [
    "## Problem 41"
   ]
  },
  {
   "cell_type": "code",
   "execution_count": 22,
   "metadata": {},
   "outputs": [
    {
     "name": "stdout",
     "output_type": "stream",
     "text": [
      "she.txt 30\n",
      "She sells seashells on the\n",
      "seashore;\n",
      "The shells that she sells are\n",
      "seashells I'm sure.\n",
      "So if she sells seashells on\n",
      "the seashore,\n",
      "I'm sure that the shells are\n",
      "seashore shells.\n"
     ]
    }
   ],
   "source": [
    "import math\n",
    "file, width = [inp for inp in input().split()]\n",
    "width = int(width)\n",
    "for line in open(file).readlines():\n",
    "    if (len(line) > width):\n",
    "        #for i in range(1,math.ceil(len(line)/width)):\n",
    "        #        print(line[i*width:(i*width)+width].strip())\n",
    "        thisline = []\n",
    "        n = 0\n",
    "        for i in line.split():\n",
    "            if (len(thisline) == n):\n",
    "                thisline.append([])\n",
    "            if len(' '.join(thisline[n]) + i) < 30:\n",
    "                thisline[n].append(i)\n",
    "            else:\n",
    "                n += 1\n",
    "                thisline.append([i])\n",
    "        for i in thisline:\n",
    "            print(' '.join(i))"
   ]
  },
  {
   "cell_type": "markdown",
   "metadata": {},
   "source": [
    "## Problem 42"
   ]
  },
  {
   "cell_type": "code",
   "execution_count": 30,
   "metadata": {},
   "outputs": [
    {
     "name": "stdout",
     "output_type": "stream",
     "text": [
      "she.txt\n",
      "      She sells seashells on the seashore;      \n",
      "The shells that she sells are seashells I'm sure.\n",
      "   So if she sells seashells on the seashore,   \n",
      "  I'm sure that the shells are seashore shells.  \n"
     ]
    }
   ],
   "source": [
    "file = input()\n",
    "lines = open(file).readlines()\n",
    "width = len(max(lines).strip())\n",
    "for i in lines:\n",
    "    i = i.strip()\n",
    "    l = len(i)\n",
    "    print(\" \" * int((width-l)/2) + i + \" \" * int((width-l)/2))"
   ]
  },
  {
   "cell_type": "markdown",
   "metadata": {},
   "source": [
    "## Problem 43"
   ]
  },
  {
   "cell_type": "code",
   "execution_count": 40,
   "metadata": {},
   "outputs": [
    {
     "name": "stdout",
     "output_type": "stream",
     "text": [
      "[(1, 'a'), (2, 'b'), (3, 'c')]\n"
     ]
    }
   ],
   "source": [
    "print(list(zip([1, 2, 3], [\"a\", \"b\", \"c\"])))"
   ]
  },
  {
   "cell_type": "markdown",
   "metadata": {},
   "source": [
    "## Problem 44"
   ]
  },
  {
   "cell_type": "code",
   "execution_count": 43,
   "metadata": {},
   "outputs": [
    {
     "name": "stdout",
     "output_type": "stream",
     "text": [
      "[0, 1, 4, 9, 16]\n"
     ]
    }
   ],
   "source": [
    "array = range(5)\n",
    "def square(x):\n",
    "    return x * x\n",
    "\n",
    "print([square(x) for x in array])"
   ]
  },
  {
   "cell_type": "markdown",
   "metadata": {},
   "source": [
    "## Problem 45"
   ]
  },
  {
   "cell_type": "code",
   "execution_count": 44,
   "metadata": {},
   "outputs": [
    {
     "name": "stdout",
     "output_type": "stream",
     "text": [
      "[0, 2, 4, 6, 8]\n"
     ]
    }
   ],
   "source": [
    "array = range(10)\n",
    "def even(x):\n",
    "    return x % 2 == 0\n",
    "print([x for x in array if even(x)])"
   ]
  },
  {
   "cell_type": "code",
   "execution_count": null,
   "metadata": {},
   "outputs": [],
   "source": []
  }
 ],
 "metadata": {
  "kernelspec": {
   "display_name": "Python 3",
   "language": "python",
   "name": "python3"
  },
  "language_info": {
   "codemirror_mode": {
    "name": "ipython",
    "version": 3
   },
   "file_extension": ".py",
   "mimetype": "text/x-python",
   "name": "python",
   "nbconvert_exporter": "python",
   "pygments_lexer": "ipython3",
   "version": "3.8.5"
  }
 },
 "nbformat": 4,
 "nbformat_minor": 4
}
